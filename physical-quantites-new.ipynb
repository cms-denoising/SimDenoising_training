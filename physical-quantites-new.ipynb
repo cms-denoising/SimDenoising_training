{
 "cells": [
  {
   "cell_type": "code",
   "execution_count": 2,
   "id": "70b88f99",
   "metadata": {},
   "outputs": [],
   "source": [
    "import torch\n",
    "import torch.nn as nn\n",
    "from torch.autograd import Variable\n",
    "from torch.nn import functional as f\n",
    "from models import DnCNN, PatchLoss, WeightedPatchLoss\n",
    "import uproot as up\n",
    "import numpy as np\n",
    "import torch.utils.data as udata\n",
    "import matplotlib.pyplot as plt\n",
    "import random"
   ]
  },
  {
   "cell_type": "code",
   "execution_count": 3,
   "id": "1e148ced",
   "metadata": {},
   "outputs": [],
   "source": [
    "def choose_device():\n",
    "    if torch.cuda.is_available():\n",
    "        dev = torch.device('cuda')\n",
    "        print(\"Using GPU\")\n",
    "    else:\n",
    "        dev = torch.device('cpu')\n",
    "        print(\"Using CPU\")\n",
    "    return dev\n",
    "\n",
    "def load_model(trained_model, dev):\n",
    "    model = DnCNN(channels=1, num_of_layers=9, kernel_size=3, features=9).to(device=dev)\n",
    "    model.load_state_dict(torch.load(trained_model, map_location=torch.device('cpu'))) \n",
    "    model.eval()\n",
    "    return model \n",
    "\n",
    "def eval_loaders(plotdata):\n",
    "    dataset = plotdata\n",
    "    loader = udata.DataLoader(dataset=plotdata)\n",
    "    return loader"
   ]
  },
  {
   "cell_type": "code",
   "execution_count": 4,
   "id": "a57872c2",
   "metadata": {},
   "outputs": [],
   "source": [
    "def get_tree(file_path):\n",
    "    file = up.open(file_path)\n",
    "    tree = file[\"g4SimHits/tree\"]\n",
    "    return tree;\n",
    "\n",
    "def get_branch(file_paths):\n",
    "    file_path = file_paths.split(' ')\n",
    "    branch = []\n",
    "    for i, elem in enumerate(file_path):\n",
    "        tree = get_tree(file_path[i])\n",
    "        events = tree[\"bin_weights\"].array()\n",
    "        branch = np.concatenate((branch, events))\n",
    "    return branch;\n",
    "\n",
    "def get_bin_weights(branch, n, flipx = None, flipy=None, rot=None):\n",
    "    data = np.zeros((100,100))\n",
    "    count = 0\n",
    "    for y in range(100):\n",
    "        for x in range(100):\n",
    "            data[99-x][y]=branch[n][count]\n",
    "            #if (data[99-x][y] != 0):\n",
    "                #data[99-x][y] = math.log10(data[99-x][y])\n",
    "            count+=1\n",
    "    # do random rotation/flips\n",
    "    if (flipx):\n",
    "        data = np.fliplr(data)\n",
    "    if flipy:\n",
    "        data = np.flipud(data)\n",
    "    if rot:\n",
    "        for i in range(rot):\n",
    "            data = np.rot90(data)\n",
    "    return data;\n",
    "\n",
    "def get_flips():\n",
    "    flipx = random.randint(0, 1)\n",
    "    flipy = random.randint(0, 1)\n",
    "    rot = random.randint(0, 3)\n",
    "    return flipx, flipy, rot"
   ]
  },
  {
   "cell_type": "code",
   "execution_count": 5,
   "id": "8634f304",
   "metadata": {},
   "outputs": [],
   "source": [
    "class RootBasic(udata.Dataset):\n",
    "    allowed_transforms = [\"none\",\"normalize\",\"log10\"]\n",
    "    def __init__(self, fuzzy_root, sharp_root, transform='none'):\n",
    "        self.sharp_root = sharp_root\n",
    "        self.fuzzy_root = fuzzy_root\n",
    "        self.sharp_branch = get_branch(sharp_root)\n",
    "        self.fuzzy_branch = get_branch(fuzzy_root)\n",
    "        self.sharp_tree = get_tree(self.sharp_root)\n",
    "        self.fuzzy_tree = get_tree(self.fuzzy_root)\n",
    "        self.transform = transform\n",
    "        self.means = None\n",
    "        self.stdevs = None\n",
    "        if self.transform not in self.allowed_transforms:\n",
    "            raise ValueError(\"Unknown transform: {}\".format(self.transform))\n",
    "\n",
    "    def __len__(self):\n",
    "        if len(self.sharp_branch) == len(self.fuzzy_branch):\n",
    "            return len(self.sharp_branch)\n",
    "        else:\n",
    "            raise RuntimeError(\"Sharp and fuzzy dataset lengths do not match\")\n",
    "            \n",
    "    def __getitem__(self, idx):\n",
    "        flipx, flipy, rot = get_flips()\n",
    "        sharp_np = get_bin_weights(self.sharp_branch, idx, flipx, flipy, rot).copy()\n",
    "        fuzzy_np = get_bin_weights(self.fuzzy_branch, idx, flipx, flipy, rot).copy()\n",
    "        return sharp_np, fuzzy_np\n",
    "    \n",
    "    #can only be called after __getitem__ has run in RootDataset\n",
    "    def unnormalize(self,array):\n",
    "        array *= self.stdevs\n",
    "        array += self.means \n",
    "        return array\n",
    "\n",
    "class RootDataset(RootBasic):\n",
    "    def __getitem__(self, idx):\n",
    "        sharp_np, fuzzy_np = super().__getitem__(idx)\n",
    "                    \n",
    "        if self.transform==\"log10\":\n",
    "            sharp_np = np.log10(sharp_np, where=sharp_np>0)\n",
    "            fuzzy_np = np.log10(fuzzy_np, where=fuzzy_np>0)\n",
    "        elif self.transform==\"normalize\":\n",
    "            self.means = np.mean(sharp_np)\n",
    "            self.stdevs = np.std(sharp_np)\n",
    "            sharp_np -= self.means\n",
    "            sharp_np /= self.stdevs\n",
    "            fuzzy_np -= self.means\n",
    "            fuzzy_np /= self.stdevs\n",
    "        \n",
    "        sharp = torch.from_numpy(sharp_np)\n",
    "        fuzzy = torch.from_numpy(fuzzy_np)\n",
    "        return sharp, fuzzy "
   ]
  },
  {
   "cell_type": "code",
   "execution_count": 6,
   "id": "2014e0a8",
   "metadata": {},
   "outputs": [],
   "source": [
    "def make_sample_images(fuzzy_root, sharp_root, model, transform='none'):\n",
    "    branch_arrays = RootBasic(fuzzy_root, sharp_root, transform)\n",
    "    dataset = RootDataset(fuzzy_root, sharp_root, transform)\n",
    "    model.to('cpu')\n",
    "    #random.seed(args.randomseed) #makes random orientations match those from training\n",
    "    for event in range(10):\n",
    "        #flipx, flipy, rot = get_flips()\n",
    "        sharp, fuzzy = branch_arrays[event]\n",
    "        sharp_norm, fuzzy_norm = dataset[event]\n",
    "        fuzzy_eval = fuzzy_norm.unsqueeze(0).unsqueeze(1)\n",
    "        output = model(fuzzy_eval.float()).squeeze(0).squeeze(0).cpu().detach().numpy()\n",
    "        output_un = dataset.unnormalize(output)\n",
    "    #model.to('cuda')\n",
    "    return output_un"
   ]
  },
  {
   "cell_type": "code",
   "execution_count": 7,
   "id": "0c25fa1f",
   "metadata": {},
   "outputs": [],
   "source": [
    "def get_output(dataset, event):\n",
    "    #dataset = RootDataset(fuzzy_root, sharp_root, transform)\n",
    "    model.to('cpu')\n",
    "    #random.seed(args.randomseed) #makes random orientations match those from training\n",
    "    #flipx, flipy, rot = get_flips()\n",
    "    #sharp, fuzzy = branch_arrays[event]\n",
    "    sharp_norm, fuzzy_norm = dataset[event]\n",
    "    fuzzy_eval = fuzzy_norm.unsqueeze(0).unsqueeze(1)\n",
    "    output = model(fuzzy_eval.float()).squeeze(0).squeeze(0).cpu().detach().numpy()\n",
    "    output_un = dataset.unnormalize(output)\n",
    "    #model.to('cuda')\n",
    "    return output_un"
   ]
  },
  {
   "cell_type": "code",
   "execution_count": 37,
   "id": "4637f64e",
   "metadata": {},
   "outputs": [],
   "source": [
    "# def calculate_ppe(event, eventtype):\n",
    "#     if eventtype == 'fuzzy':\n",
    "#         sharp, fuzzy = event\n",
    "#         pixel_energies = get_output()\n",
    "#         energy_per_pixel = np.mean(pixel_energies)\n",
    "#     if eventtype == 'sharp':\n",
    "#         pixel_energies = event\n",
    "#         energy_per_pixel = np.mean(pixel_energies)\n",
    "#     return energy_per_pixel\n",
    "\n",
    "# def ppe_data(dataset, eventtype):\n",
    "#     per_pixel_energy = []\n",
    "#     for i, elem in enumerate(dataset):\n",
    "#         event = calculate_ppe(dataset[i], eventtype)\n",
    "#         per_pixel_energy.append(event)\n",
    "#     return per_pixel_energy\n",
    "\n",
    "def calculate_ppe(dataset, basic_dataset, event):\n",
    "    ppe = []\n",
    "    sharp, fuzzy = basic_dataset[event]\n",
    "    sharp_energies = np.ndarray.flatten(sharp)\n",
    "    fuzzy_energies = np.ndarray.flatten(fuzzy)\n",
    "    ppe_sharp = np.mean(sharp_energies)\n",
    "    ppe_fuzzy = np.mean(fuzzy_energies)\n",
    "    output = get_output(dataset, event)\n",
    "    ppe_output = np.mean(output)\n",
    "    ppe.append(ppe_sharp)\n",
    "    ppe.append(ppe_fuzzy)\n",
    "    ppe.append(ppe_output)\n",
    "    return ppe\n",
    "    \n",
    "def ppe_plotdata(dataset, basic_dataset):\n",
    "    ppe_sharp = []\n",
    "    ppe_fuzzy = []\n",
    "    ppe_output = []\n",
    "    for i in range(len(basic_dataset)):\n",
    "        ppes = calculate_ppe(dataset, basic_dataset, i)\n",
    "        sharp_ppe = ppes[0]\n",
    "        fuzzy_ppe = ppes[1]\n",
    "        output_ppe = ppes[2]\n",
    "        ppe_sharp.append(sharp_ppe)\n",
    "        ppe_fuzzy.append(fuzzy_ppe)\n",
    "        ppe_output.append(output_ppe)\n",
    "    return ppe_sharp, ppe_fuzzy, ppe_output\n",
    "\n",
    "def centroid(dataset, basic_dataset, event, event_type):\n",
    "    if event_type == 'output':\n",
    "        event_points = []\n",
    "        output = get_output(dataset,event)\n",
    "        y_avg = 0\n",
    "        for y in range(100):\n",
    "            y_en = y*np.mean(output[y])\n",
    "            y_avg += y_en\n",
    "        y_avg = y_avg/100\n",
    "        x_avg = 0\n",
    "        for x in range(100):\n",
    "            for y in range(100):\n",
    "                x_en = x*output[y][x]\n",
    "                x_avg += x_en\n",
    "        x_avg = (x_avg/100)/100\n",
    "    if event_type == 'fuzzy':\n",
    "        event_points = []\n",
    "        sharp, fuzzy = basic_dataset[event]\n",
    "        y_avg = 0\n",
    "        for y in range(100):\n",
    "            y_en = y*np.mean(fuzzy[y])\n",
    "            y_avg += y_en\n",
    "        y_avg = y_avg/100\n",
    "        x_avg = 0\n",
    "        for x in range(100):\n",
    "            for y in range(100):\n",
    "                x_en = x*fuzzy[y][x]\n",
    "                x_avg += x_en\n",
    "        x_avg = (x_avg/100)/100\n",
    "    if event_type == 'sharp':\n",
    "        event_points = []\n",
    "        sharp, fuzzy = basic_dataset[event]\n",
    "        y_avg = 0\n",
    "        for y in range(100):\n",
    "            y_en = y*np.mean(sharp[y])\n",
    "            y_avg += y_en\n",
    "        y_avg = y_avg/100\n",
    "        x_avg = 0\n",
    "        for x in range(100):\n",
    "            for y in range(100):\n",
    "                x_en = x*sharp[y][x]\n",
    "                x_avg += x_en\n",
    "        x_avg = (x_avg/100)/100\n",
    "    return x_avg, y_avg\n",
    "            \n",
    "def centroid_plotdata(dataset, basic_dataset, event_type, ppe_plot):\n",
    "    centroids = []\n",
    "    centroids_x = []\n",
    "    centroids_y = []\n",
    "    for i in range(len(basic_dataset)):\n",
    "        cntr = centroid(dataset, basic_dataset, i, event_type)\n",
    "        if event_type == 'sharp': j=0 \n",
    "        if event_type == 'fuzzy': j=1\n",
    "        if event_type == 'output': j=2\n",
    "        cntr_x = cntr[0]/(ppe_plot[j][i])\n",
    "        cntr_y = cntr[1]/(ppe_plot[j][i])\n",
    "        centroids_x.append(cntr_x)\n",
    "        centroids_y.append(cntr_y)\n",
    "    centroids.append(centroids_x)\n",
    "    centroids.append(centroids_y)\n",
    "    return centroids\n",
    "\n",
    "def centroid_rad_data(centroid_plotdata):\n",
    "    centroid_rads = []\n",
    "    for i in range(len(centroid_plotdata[0])):\n",
    "        centroid_rad = np.sqrt(centroid_plotdata[0][i]**2+centroid_plotdata[1][i]**2)\n",
    "        centroid_rads.append(centroid_rad)\n",
    "    return centroid_rads\n",
    "\n",
    "def hits_above_threshold(dataset, basic_dataset, threshold, event, event_type):\n",
    "    if event_type == 'sharp' or 'fuzzy':\n",
    "        sharp, fuzzy = basic_dataset[event]\n",
    "    count = 0\n",
    "    if event_type == 'sharp':\n",
    "        for y in range(100):\n",
    "            for x in range(100):\n",
    "                if sharp[y][x] >= threshold:\n",
    "                    count +=1\n",
    "    if event_type == 'fuzzy':\n",
    "        for y in range(100):\n",
    "            for x in range(100):\n",
    "                if fuzzy[y][x] >= threshold:\n",
    "                    count +=1\n",
    "    if event_type == 'output':\n",
    "        output = get_output(dataset, event)\n",
    "        for y in range(100):\n",
    "            for x in range(100):\n",
    "                if output[y][x] >= threshold:\n",
    "                    count +=1\n",
    "    return count\n",
    "\n",
    "def hits_data(dataset, basic_dataset, threshold, event_type):\n",
    "    hits = []\n",
    "    for i in range(len(basic_dataset)):\n",
    "        hit = hits_above_threshold(dataset, basic_dataset, threshold, i, event_type)\n",
    "        hits.append(hit)\n",
    "    return hits\n",
    "\n",
    "#def hits_data(dataset, basic_dataset, threshold, event_type):\n",
    "\n",
    "def diff(dataset1, dataset2):\n",
    "    diffset = []\n",
    "    for i, elem in enumerate(dataset1):\n",
    "        diff = dataset1[i] - dataset2[i]\n",
    "        diffset.append(diff)\n",
    "    return diffset\n",
    "        \n",
    "    "
   ]
  },
  {
   "cell_type": "code",
   "execution_count": 9,
   "id": "434bff67",
   "metadata": {},
   "outputs": [],
   "source": [
    "def plot(ppe_data):\n",
    "    plt.hist(ppe_data)\n",
    "    plt.show()"
   ]
  },
  {
   "cell_type": "code",
   "execution_count": 49,
   "id": "156436ff",
   "metadata": {},
   "outputs": [
    {
     "name": "stdout",
     "output_type": "stream",
     "text": [
      "Using CPU\n"
     ]
    }
   ],
   "source": [
    "device = choose_device()\n",
    "#loader = eval_loaders(data)\n",
    "model = load_model('out-train-jul30-1/net.pth', device)\n",
    "#make_sample_images('ntup_photon_energy700.0_mult1_eta0.5_phi0.0_ProductionCut10.0_n20.root','ntup_photon_energy700.0_mult1_eta0.5_phi0.0_n20.root', model, 'normalize')"
   ]
  },
  {
   "cell_type": "code",
   "execution_count": 50,
   "id": "c196f139",
   "metadata": {},
   "outputs": [],
   "source": [
    "dataset = RootDataset('ntup_photon_energy700.0_mult1_eta0.5_phi0.0_ProductionCut10.0_n20.root','ntup_photon_energy700.0_mult1_eta0.5_phi0.0_n20.root', 'normalize')"
   ]
  },
  {
   "cell_type": "code",
   "execution_count": 51,
   "id": "a3e91114",
   "metadata": {},
   "outputs": [],
   "source": [
    "data = get_output(dataset, 9)"
   ]
  },
  {
   "cell_type": "code",
   "execution_count": 52,
   "id": "8d44d8ea",
   "metadata": {},
   "outputs": [
    {
     "data": {
      "text/plain": [
       "100"
      ]
     },
     "execution_count": 52,
     "metadata": {},
     "output_type": "execute_result"
    }
   ],
   "source": [
    "len(data)"
   ]
  },
  {
   "cell_type": "code",
   "execution_count": 53,
   "id": "442e6ec3",
   "metadata": {},
   "outputs": [],
   "source": [
    "basic_dataset = RootBasic('ntup_photon_energy700.0_mult1_eta0.5_phi0.0_ProductionCut10.0_n20.root','ntup_photon_energy700.0_mult1_eta0.5_phi0.0_n20.root', 'normalize')"
   ]
  },
  {
   "cell_type": "code",
   "execution_count": 54,
   "id": "21181c96",
   "metadata": {},
   "outputs": [
    {
     "data": {
      "text/plain": [
       "[46.07495323465802, 66.23541615071841, 39.591766]"
      ]
     },
     "execution_count": 54,
     "metadata": {},
     "output_type": "execute_result"
    }
   ],
   "source": [
    "calculate_ppe(dataset, basic_dataset, 9)"
   ]
  },
  {
   "cell_type": "code",
   "execution_count": 55,
   "id": "8630ef60",
   "metadata": {},
   "outputs": [],
   "source": [
    "plot_data = ppe_plotdata(dataset, basic_dataset)"
   ]
  },
  {
   "cell_type": "code",
   "execution_count": 56,
   "id": "e92d3193",
   "metadata": {},
   "outputs": [
    {
     "data": {
      "image/png": "[encoded data removed]",
      "text/plain": [
       "<Figure size 432x288 with 1 Axes>"
      ]
     },
     "metadata": {
      "needs_background": "light"
     },
     "output_type": "display_data"
    },
    {
     "data": {
      "image/png": "[encoded data removed]",
      "text/plain": [
       "<Figure size 432x288 with 1 Axes>"
      ]
     },
     "metadata": {
      "needs_background": "light"
     },
     "output_type": "display_data"
    }
   ],
   "source": [
    "sharp, fuzzy, output = plot_data\n",
    "    \n",
    "plot(sharp)\n",
    "plot(output)"
   ]
  },
  {
   "cell_type": "code",
   "execution_count": 83,
   "id": "fd0345de",
   "metadata": {},
   "outputs": [],
   "source": [
    "plot_data;"
   ]
  },
  {
   "cell_type": "code",
   "execution_count": 85,
   "id": "b10e4e7f",
   "metadata": {},
   "outputs": [],
   "source": [
    "basic_dataset[1][1];"
   ]
  },
  {
   "cell_type": "code",
   "execution_count": 84,
   "id": "cab5ac2d",
   "metadata": {},
   "outputs": [],
   "source": [
    "len(basic_dataset[1][1][1]);"
   ]
  },
  {
   "cell_type": "code",
   "execution_count": null,
   "id": "0812558c",
   "metadata": {},
   "outputs": [],
   "source": []
  },
  {
   "cell_type": "code",
   "execution_count": 60,
   "id": "a1431a54",
   "metadata": {},
   "outputs": [],
   "source": [
    "sharp_centroid = centroid_plotdata(dataset, basic_dataset, 'sharp', plot_data)"
   ]
  },
  {
   "cell_type": "code",
   "execution_count": 61,
   "id": "f0bc646d",
   "metadata": {},
   "outputs": [],
   "source": [
    "fuzzy_centroid = centroid_plotdata(dataset, basic_dataset, 'fuzzy', plot_data)"
   ]
  },
  {
   "cell_type": "code",
   "execution_count": 62,
   "id": "161705a6",
   "metadata": {},
   "outputs": [],
   "source": [
    "output_centroid = centroid_plotdata(dataset, basic_dataset, 'output', plot_data)"
   ]
  },
  {
   "cell_type": "code",
   "execution_count": 63,
   "id": "57989269",
   "metadata": {},
   "outputs": [],
   "source": [
    "#centroid_plotdata(dataset, basic_dataset, 'fuzzy')"
   ]
  },
  {
   "cell_type": "code",
   "execution_count": 64,
   "id": "1fe8843c",
   "metadata": {},
   "outputs": [
    {
     "data": {
      "image/png": "[encoded data removed]",
      "text/plain": [
       "<Figure size 432x288 with 1 Axes>"
      ]
     },
     "metadata": {
      "needs_background": "light"
     },
     "output_type": "display_data"
    }
   ],
   "source": [
    "plt.hist2d(sharp_centroid[0], sharp_centroid[1],  bins=10)\n",
    "plt.show()"
   ]
  },
  {
   "cell_type": "code",
   "execution_count": 86,
   "id": "2d4227b0",
   "metadata": {},
   "outputs": [
    {
     "data": {
      "image/png": "[encoded data removed]",
      "text/plain": [
       "<Figure size 432x288 with 1 Axes>"
      ]
     },
     "metadata": {
      "needs_background": "light"
     },
     "output_type": "display_data"
    }
   ],
   "source": [
    "plt.hist2d(fuzzy_centroid[0], fuzzy_centroid[1],  bins=10)\n",
    "plt.show()"
   ]
  },
  {
   "cell_type": "code",
   "execution_count": 87,
   "id": "473e15e1",
   "metadata": {},
   "outputs": [
    {
     "data": {
      "image/png": "[encoded data removed]",
      "text/plain": [
       "<Figure size 432x288 with 1 Axes>"
      ]
     },
     "metadata": {
      "needs_background": "light"
     },
     "output_type": "display_data"
    }
   ],
   "source": [
    "plt.hist2d(output_centroid[0], output_centroid[1],  bins=10)\n",
    "plt.show()"
   ]
  },
  {
   "cell_type": "code",
   "execution_count": 88,
   "id": "b2a440c9",
   "metadata": {},
   "outputs": [],
   "source": [
    "sharp_centroid[0];"
   ]
  },
  {
   "cell_type": "code",
   "execution_count": 89,
   "id": "c8725d13",
   "metadata": {},
   "outputs": [],
   "source": [
    "sharp_centroid[1];"
   ]
  },
  {
   "cell_type": "code",
   "execution_count": 69,
   "id": "d02edfb8",
   "metadata": {},
   "outputs": [],
   "source": [
    "centroid_rad_plot_sharp = centroid_rad_data(sharp_centroid);"
   ]
  },
  {
   "cell_type": "code",
   "execution_count": 90,
   "id": "9fc4a1eb",
   "metadata": {},
   "outputs": [
    {
     "data": {
      "image/png": "[encoded data removed]",
      "text/plain": [
       "<Figure size 432x288 with 1 Axes>"
      ]
     },
     "metadata": {
      "needs_background": "light"
     },
     "output_type": "display_data"
    }
   ],
   "source": [
    "plt.hist(centroid_rad_plot_sharp)\n",
    "plt.show()"
   ]
  },
  {
   "cell_type": "code",
   "execution_count": 71,
   "id": "42d0302d",
   "metadata": {},
   "outputs": [],
   "source": [
    "centroid_rad_plot_fuzzy = centroid_rad_data(fuzzy_centroid)\n",
    "centroid_rad_plot_output = centroid_rad_data(output_centroid)"
   ]
  },
  {
   "cell_type": "code",
   "execution_count": 91,
   "id": "c1535278",
   "metadata": {},
   "outputs": [
    {
     "data": {
      "image/png": "[encoded data removed]",
      "text/plain": [
       "<Figure size 432x288 with 1 Axes>"
      ]
     },
     "metadata": {
      "needs_background": "light"
     },
     "output_type": "display_data"
    }
   ],
   "source": [
    "plt.hist(centroid_rad_plot_fuzzy)\n",
    "plt.show()"
   ]
  },
  {
   "cell_type": "code",
   "execution_count": 92,
   "id": "473e7c28",
   "metadata": {},
   "outputs": [
    {
     "data": {
      "image/png": "[encoded data removed]",
      "text/plain": [
       "<Figure size 432x288 with 1 Axes>"
      ]
     },
     "metadata": {
      "needs_background": "light"
     },
     "output_type": "display_data"
    }
   ],
   "source": [
    "plt.hist(centroid_rad_plot_output)\n",
    "plt.show()"
   ]
  },
  {
   "cell_type": "code",
   "execution_count": 93,
   "id": "27997d4a",
   "metadata": {},
   "outputs": [
    {
     "data": {
      "image/png": "[encoded data removed]",
      "text/plain": [
       "<Figure size 432x288 with 1 Axes>"
      ]
     },
     "metadata": {
      "needs_background": "light"
     },
     "output_type": "display_data"
    }
   ],
   "source": [
    "plt.hist(centroid_rad_plot_sharp)\n",
    "plt.hist(centroid_rad_plot_output)\n",
    "plt.hist(centroid_rad_plot_fuzzy)\n",
    "plt.show()"
   ]
  },
  {
   "cell_type": "code",
   "execution_count": 75,
   "id": "258ccdf4",
   "metadata": {},
   "outputs": [],
   "source": [
    "sharp_hits = hits_data(dataset, basic_dataset, 0.1, 'sharp')"
   ]
  },
  {
   "cell_type": "code",
   "execution_count": 76,
   "id": "b2c4c431",
   "metadata": {},
   "outputs": [],
   "source": [
    "fuzzy_hits = hits_data(dataset, basic_dataset, 0.1, 'fuzzy')"
   ]
  },
  {
   "cell_type": "code",
   "execution_count": 77,
   "id": "24b14077",
   "metadata": {},
   "outputs": [],
   "source": [
    "output_hits = hits_data(dataset, basic_dataset, 0.1, 'output')"
   ]
  },
  {
   "cell_type": "code",
   "execution_count": 94,
   "id": "17a4143a",
   "metadata": {},
   "outputs": [
    {
     "data": {
      "image/png": "[encoded data removed]",
      "text/plain": [
       "<Figure size 432x288 with 1 Axes>"
      ]
     },
     "metadata": {
      "needs_background": "light"
     },
     "output_type": "display_data"
    }
   ],
   "source": [
    "plt.hist(sharp_hits)\n",
    "plt.show()"
   ]
  },
  {
   "cell_type": "code",
   "execution_count": 95,
   "id": "eb72d3fa",
   "metadata": {},
   "outputs": [
    {
     "data": {
      "image/png": "[encoded data removed]",
      "text/plain": [
       "<Figure size 432x288 with 1 Axes>"
      ]
     },
     "metadata": {
      "needs_background": "light"
     },
     "output_type": "display_data"
    }
   ],
   "source": [
    "plt.hist(fuzzy_hits)\n",
    "plt.show()"
   ]
  },
  {
   "cell_type": "code",
   "execution_count": 80,
   "id": "a851ba22",
   "metadata": {},
   "outputs": [],
   "source": [
    "diff_x = diff(sharp_centroid[0], fuzzy_centroid[0])"
   ]
  },
  {
   "cell_type": "code",
   "execution_count": 81,
   "id": "70cbda5c",
   "metadata": {},
   "outputs": [],
   "source": [
    "diff_y = diff(sharp_centroid[1], fuzzy_centroid[1])"
   ]
  },
  {
   "cell_type": "code",
   "execution_count": 96,
   "id": "da378324",
   "metadata": {},
   "outputs": [
    {
     "data": {
      "image/png": "[encoded data removed]",
      "text/plain": [
       "<Figure size 432x288 with 1 Axes>"
      ]
     },
     "metadata": {
      "needs_background": "light"
     },
     "output_type": "display_data"
    }
   ],
   "source": [
    "plt.hist2d(diff_x,diff_y)\n",
    "plt.show()"
   ]
  },
  {
   "cell_type": "code",
   "execution_count": null,
   "id": "234ab359",
   "metadata": {},
   "outputs": [],
   "source": []
  },
  {
   "cell_type": "code",
   "execution_count": null,
   "id": "24ff5ff9",
   "metadata": {},
   "outputs": [],
   "source": []
  }
 ],
 "metadata": {
  "kernelspec": {
   "display_name": "Python 3",
   "language": "python",
   "name": "python3"
  },
  "language_info": {
   "codemirror_mode": {
    "name": "ipython",
    "version": 3
   },
   "file_extension": ".py",
   "mimetype": "text/x-python",
   "name": "python",
   "nbconvert_exporter": "python",
   "pygments_lexer": "ipython3",
   "version": "3.8.8"
  }
 },
 "nbformat": 4,
 "nbformat_minor": 5
}
